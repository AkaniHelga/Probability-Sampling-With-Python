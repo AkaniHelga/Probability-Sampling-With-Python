{
 "cells": [
  {
   "cell_type": "markdown",
   "metadata": {},
   "source": [
    "Probability Sampling With Python"
   ]
  },
  {
   "cell_type": "markdown",
   "metadata": {},
   "source": [
    "Import python libraries"
   ]
  },
  {
   "cell_type": "code",
   "execution_count": 1,
   "metadata": {},
   "outputs": [],
   "source": [
    "import pandas as pd\n",
    "import statistics   #pandas statistics module\n",
    "import numpy as np\n",
    "import random       #python method for choosing elements randomly from a set\n",
    "from math import sqrt\n",
    "from scipy.stats import sem \n"
   ]
  },
  {
   "cell_type": "markdown",
   "metadata": {},
   "source": [
    "Add dataset of or population data"
   ]
  },
  {
   "cell_type": "code",
   "execution_count": 2,
   "metadata": {},
   "outputs": [],
   "source": [
    "#data set set including the age of 50 people\n",
    "\n",
    "age = [23, 30, 21, 28, 25, 19, 35, 40, 27, 22, \n",
    " 31, 24, 29, 33, 38, 26, 24, 28, 32, 34, \n",
    " 36, 22, 25, 27, 41, 23, 32, 30, 29, 33, \n",
    " 35, 21, 28, 26, 24, 31, 38, 40, 29, 23, \n",
    " 21, 22, 25, 26, 39, 28, 30, 35, 34, 24\n",
    "]"
   ]
  },
  {
   "cell_type": "markdown",
   "metadata": {},
   "source": [
    "Calculate population mean of the age dataset"
   ]
  },
  {
   "cell_type": "code",
   "execution_count": 3,
   "metadata": {},
   "outputs": [
    {
     "name": "stdout",
     "output_type": "stream",
     "text": [
      "28.92\n",
      "28.92\n"
     ]
    }
   ],
   "source": [
    "#calculating population mean of their ages\n",
    "\n",
    "print(statistics.mean(age))                         #using pandas\n",
    "\n",
    "population_mean = np.mean(age)                      #using numpy\n",
    "print (population_mean)\n"
   ]
  },
  {
   "cell_type": "markdown",
   "metadata": {},
   "source": [
    "Calculate sample mean"
   ]
  },
  {
   "cell_type": "code",
   "execution_count": 4,
   "metadata": {},
   "outputs": [
    {
     "name": "stdout",
     "output_type": "stream",
     "text": [
      "29.08\n",
      "29.08\n"
     ]
    }
   ],
   "source": [
    "#get a random sample from the population(age) using Python's random.choices modules to return multiple random ages from the population\n",
    "\n",
    "sample_size= len(age)\n",
    "sample = random.choices(list(age), k=sample_size)\n",
    "#print(sample)\n",
    "\n",
    "#calculate sample mean\n",
    "print(statistics.mean(sample))                     #using pandas\n",
    "\n",
    "sample_mean = np.mean(sample)                      #using numpy\n",
    "print (sample_mean)\n"
   ]
  },
  {
   "cell_type": "markdown",
   "metadata": {},
   "source": [
    "Calculate the percentage standard error mean (SEM= S/square root of n) where;\n",
    "S is the sample standard deviation\n",
    "n is sample size"
   ]
  },
  {
   "cell_type": "code",
   "execution_count": 10,
   "metadata": {},
   "outputs": [
    {
     "name": "stdout",
     "output_type": "stream",
     "text": [
      "2.8217751871821277\n"
     ]
    }
   ],
   "source": [
    "# Calculate the sample standard deviation\n",
    "std_dev = np.std(age, ddof=1)  # ddof=1 to for sample std dev instead of population std dev, numpy\n",
    "\n",
    "# Calculate the Standard Error of the Mean (SEM)\n",
    "n = sample_size\n",
    "sem = std_dev / np.sqrt(n)\n",
    "\n",
    "# Calculate the difference between population mean and sample mean\n",
    "#mean_difference = population_mean - sample_mean\n",
    "\n",
    "# Calculate the percentage of SEM relative to the sample mean\n",
    "sem_percentage = (sem / sample_mean) * 100\n",
    "\n",
    "print(sem_percentage)"
   ]
  },
  {
   "cell_type": "markdown",
   "metadata": {},
   "source": [
    "Confidence Intervals with SEM to measure how well the sample represents the population"
   ]
  },
  {
   "cell_type": "code",
   "execution_count": 8,
   "metadata": {},
   "outputs": [
    {
     "name": "stdout",
     "output_type": "stream",
     "text": [
      "Confidence Interval: (28.259427775567435, 29.900572224432562)\n"
     ]
    }
   ],
   "source": [
    "lower_limit = sample_mean - sem\n",
    "upper_limit = sample_mean + sem\n",
    "\n",
    "print(f\"Confidence Interval: ({lower_limit}, {upper_limit})\")"
   ]
  },
  {
   "cell_type": "markdown",
   "metadata": {},
   "source": [
    "therefore, the average age is probably between 28.25 and 29.90, and the sample is an accurate representation of the population since the population mean falls within this range"
   ]
  }
 ],
 "metadata": {
  "kernelspec": {
   "display_name": "Python 3",
   "language": "python",
   "name": "python3"
  },
  "language_info": {
   "codemirror_mode": {
    "name": "ipython",
    "version": 3
   },
   "file_extension": ".py",
   "mimetype": "text/x-python",
   "name": "python",
   "nbconvert_exporter": "python",
   "pygments_lexer": "ipython3",
   "version": "3.13.1"
  }
 },
 "nbformat": 4,
 "nbformat_minor": 2
}
